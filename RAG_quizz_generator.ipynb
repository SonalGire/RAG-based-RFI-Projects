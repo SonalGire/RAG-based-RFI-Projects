{
  "nbformat": 4,
  "nbformat_minor": 0,
  "metadata": {
    "colab": {
      "provenance": [],
      "authorship_tag": "ABX9TyPGxEWqdZ6VGqD5j3SX1+Eb",
      "include_colab_link": true
    },
    "kernelspec": {
      "name": "python3",
      "display_name": "Python 3"
    },
    "language_info": {
      "name": "python"
    }
  },
  "cells": [
    {
      "cell_type": "markdown",
      "metadata": {
        "id": "view-in-github",
        "colab_type": "text"
      },
      "source": [
        "<a href=\"https://colab.research.google.com/github/SonalGire/RAG-based-RFI-Projects/blob/main/RAG_quizz_generator.ipynb\" target=\"_parent\"><img src=\"https://colab.research.google.com/assets/colab-badge.svg\" alt=\"Open In Colab\"/></a>"
      ]
    },
    {
      "cell_type": "markdown",
      "source": [
        "# 📘 **IT Literacy Quiz Generator (PDF to Objective Questions) :**\n",
        "\n",
        "\n",
        "This project auto-generates True/False, Yes/No, and MCQ questions from any IT Literacy PDF (like SOPs or manuals) using Gemini 1.5 Flash. It extracts content, generates questions via LLM, groups them by type, and exports a clean, printable PDF quiz with answers on the last page.\n",
        "\n",
        "\n",
        "✅ Why? To save time and effort in creating quizzes manually.\n",
        "\n",
        "👩‍🏫 Use it for: IT trainers, educators, students, HR/compliance teams.\n",
        "\n",
        "📄 Just upload PDF → Get ready-to-use quiz in minutes.\n",
        "\n"
      ],
      "metadata": {
        "id": "-sjIUo11pZZn"
      }
    },
    {
      "cell_type": "code",
      "source": [
        "!pip install PyPDF2 fpdf google-generativeai python-dotenv\n"
      ],
      "metadata": {
        "id": "JN9k80KLaQaX"
      },
      "execution_count": null,
      "outputs": []
    },
    {
      "cell_type": "code",
      "source": [
        "import os\n",
        "os.environ[\"GOOGLE_API_KEY\"] = input(\"🔑 Enter your Gemini API key: \")\n"
      ],
      "metadata": {
        "id": "e38V3mLVdDCu"
      },
      "execution_count": null,
      "outputs": []
    },
    {
      "cell_type": "code",
      "execution_count": 29,
      "metadata": {
        "id": "cqtfmRSDYPsK"
      },
      "outputs": [],
      "source": [
        "import os\n",
        "import re\n",
        "import traceback\n",
        "from PyPDF2 import PdfReader\n",
        "from PyPDF2.errors import PdfReadError\n",
        "from fpdf import FPDF\n",
        "import google.generativeai as genai\n",
        "\n",
        "# ---------------- GOOGLE API KEY ----------------\n",
        "\n",
        "genai.configure(api_key=os.environ[\"GOOGLE_API_KEY\"])\n",
        "\n",
        "\n",
        "\n",
        "# ---------------- CLEAN UNICODE FOR PDF ----------------\n",
        "def clean_unicode(text):\n",
        "    replacements = {\n",
        "        \"\\u201c\": '\"', \"\\u201d\": '\"',  # smart double quotes\n",
        "        \"\\u2018\": \"'\", \"\\u2019\": \"'\",  # smart single quotes\n",
        "        \"\\u2013\": \"-\", \"\\u2014\": \"-\",  # en/em dashes\n",
        "        \"\\u2022\": \"*\",                # bullet\n",
        "        \"\\xa0\": \" \",                  # non-breaking space\n",
        "    }\n",
        "    for bad, good in replacements.items():\n",
        "        text = text.replace(bad, good)\n",
        "    return text.encode(\"latin-1\", \"ignore\").decode(\"latin-1\")  # strip anything left\n",
        "\n",
        "# ---------------- PDF TEXT LOADER ----------------\n",
        "def load_pdf_text(path: str, max_chars: int = None) -> str:\n",
        "    try:\n",
        "        reader = PdfReader(path)\n",
        "        full_text = \"\\n\".join([page.extract_text() or \"\" for page in reader.pages])\n",
        "        return full_text[:max_chars] if max_chars else full_text\n",
        "    except Exception as e:\n",
        "        print(f\"❌ ERROR reading PDF: {e}\")\n",
        "        return \"\"\n",
        "\n",
        "pdf_path = \"/content/IT_computer_literacy.pdf\"     #🔁 Replace with your actual file path\n",
        "pdf_text = load_pdf_text(pdf_path, max_chars=5000)\n",
        "\n",
        "\n",
        "\n"
      ]
    },
    {
      "cell_type": "code",
      "source": [
        "# ========================================================\n",
        "# Prompt for IT Literacy PDF-Based Question Generation\n",
        "# ========================================================\n",
        "\n",
        "def build_prompt(document_text):\n",
        "    return f\"\"\"\n",
        "You are an IT Literacy Instructor and expert in computer education.\n",
        "\n",
        "From the instructional manual below, generate **30 objective questions** that assess understanding of basic IT concepts such as computer hardware, software, internet, file types, networking, and security practices.\n",
        "\n",
        "Avoid factual or trivial questions like:\n",
        "❌ What is written on page X\n",
        "❌ Dates, model numbers, or versions\n",
        "❌ Names of software products or companies\n",
        "❌ Questions that just test rote memory\n",
        "\n",
        "✅ Instead, focus on meaningful conceptual and applied questions, such as:\n",
        "- What is the role of an operating system in a computer?\n",
        "- Why is it important to use strong passwords?\n",
        "- What is the difference between RAM and storage?\n",
        "- When should antivirus software be updated?\n",
        "\n",
        "\n",
        "Generate:\n",
        "1. 10 True/False questions (Q1–Q10)\n",
        "2. 10 Yes/No questions (Q11–Q20)\n",
        "3. 10 MCQs (Q21–Q30) – these should test concepts, reasoning, or real-world application\n",
        "\n",
        "📌 Format every question like this (even T/F and Yes/No):\n",
        "\n",
        "Q<number>. <Question>\n",
        "A. Option A\n",
        "B. Option B\n",
        "C. Option C\n",
        "D. Option D\n",
        "Answer: <Correct option letter>\n",
        "\n",
        "Use only the content provided in the manual to form all questions and options.\n",
        "\n",
        "Manual:\n",
        "{document_text}\n",
        "\"\"\"\n"
      ],
      "metadata": {
        "id": "8GlGh1bfYgWF"
      },
      "execution_count": 30,
      "outputs": []
    },
    {
      "cell_type": "code",
      "source": [
        "# ---------------- QUESTION PARSER ----------------\n",
        "def parse_questions(text):\n",
        "    tf, yn, mcq = [], [], []\n",
        "    tf_ans, yn_ans, mcq_ans = [], [], []\n",
        "    lines = text.strip().splitlines()\n",
        "    current = None\n",
        "    qnum = 0\n",
        "    for line in lines:\n",
        "        if re.match(r\"^Q([1-9]|10)\\.\", line):\n",
        "            current, qnum = \"tf\", int(re.findall(r\"\\d+\", line)[0])\n",
        "            tf.append(line)\n",
        "        elif re.match(r\"^Q(1[1-9]|20)\\.\", line):\n",
        "            current, qnum = \"yn\", int(re.findall(r\"\\d+\", line)[0])\n",
        "            yn.append(line)\n",
        "        elif re.match(r\"^Q(2[1-9]|30)\\.\", line):\n",
        "            current, qnum = \"mcq\", int(re.findall(r\"\\d+\", line)[0])\n",
        "            mcq.append(line)\n",
        "        elif line.startswith((\"A.\", \"B.\", \"C.\", \"D.\")):\n",
        "            (tf if current == \"tf\" else yn if current == \"yn\" else mcq).append(line)\n",
        "        elif line.startswith(\"Answer:\"):\n",
        "            ans = f\"{qnum}. {line.split(':')[1].strip()}\"\n",
        "            if current == \"tf\": tf_ans.append(ans)\n",
        "            elif current == \"yn\": yn_ans.append(ans)\n",
        "            else: mcq_ans.append(ans)\n",
        "    return tf, yn, mcq, tf_ans, yn_ans, mcq_ans"
      ],
      "metadata": {
        "id": "ss67J0-EYgSd"
      },
      "execution_count": 34,
      "outputs": []
    },
    {
      "cell_type": "code",
      "source": [
        "# ---------------- PDF FORMATTER ----------------\n",
        "class StyledPDF(FPDF):\n",
        "    def header(self):\n",
        "        pass\n",
        "    def chapter_title(self, title):\n",
        "        self.set_fill_color(200, 220, 255)\n",
        "        self.set_text_color(0, 0, 80)\n",
        "        self.set_font(\"Arial\", \"B\", 15)\n",
        "        self.cell(0, 12, title, ln=True, fill=True)\n",
        "        self.ln(6)\n",
        "\n",
        "    def question_block(self, lines):\n",
        "        self.set_font(\"Arial\", size=12)\n",
        "        self.set_text_color(20, 20, 20)\n",
        "        for line in lines:\n",
        "            self.multi_cell(0, 8, line)\n",
        "        self.ln(3)\n",
        "\n",
        "    def answer_block(self, lines):\n",
        "        self.set_fill_color(245, 245, 245)\n",
        "        self.set_text_color(60, 60, 60)\n",
        "        self.set_font(\"Arial\", \"\", 12)\n",
        "        for line in lines:\n",
        "            self.cell(0, 8, line, ln=True, fill=True)\n",
        "        self.ln(4)\n",
        "\n",
        "\n",
        "\n",
        "# ---------------- EXPORT PDF ----------------\n",
        "def export_to_pdf(tf, yn, mcq, tf_ans, yn_ans, mcq_ans, output_file=\"IT_Literacy_Quiz.pdf\"):\n",
        "    pdf = StyledPDF()\n",
        "    pdf.set_auto_page_break(auto=True, margin=15)\n",
        "\n",
        "    # Cover Page\n",
        "    pdf.add_page()\n",
        "    pdf.set_font(\"Arial\", \"B\", 22)\n",
        "    pdf.set_text_color(0, 50, 100)\n",
        "    pdf.cell(0, 70, \"\", ln=True)  # vertical spacing\n",
        "    pdf.cell(0, 10, \"IT Literacy Objective Quiz\", ln=True, align=\"C\")\n",
        "    pdf.ln(10)\n",
        "    pdf.set_font(\"Arial\", \"\", 14)\n",
        "    pdf.set_text_color(80, 80, 80)\n",
        "    pdf.multi_cell(0, 8, \"This document contains beginner to intermediate-level objective questions on IT and Computer Literacy. The questions are generated from public training manuals to enhance digital awareness and practical understanding.\")\n",
        "\n",
        "    def write_section(title, questions):\n",
        "        pdf.chapter_title(title)\n",
        "        block = []\n",
        "        for line in questions:\n",
        "            if line.startswith(\"Q\") and block:\n",
        "                pdf.question_block(block)\n",
        "                block = []\n",
        "            block.append(line)\n",
        "        if block:\n",
        "            pdf.question_block(block)\n",
        "\n",
        "    pdf.add_page()\n",
        "    write_section(\"Section 1: True/False Questions :\", tf)\n",
        "\n",
        "    pdf.add_page()\n",
        "    write_section(\"Section 2: Yes/No Questions :\", yn)\n",
        "\n",
        "    pdf.add_page()\n",
        "    write_section(\"Section 3: Multiple Choice Questions :\", mcq)\n",
        "\n",
        "    # Answer Page\n",
        "    pdf.add_page()\n",
        "    pdf.chapter_title(\"Answer Key :\")\n",
        "    pdf.set_font(\"Arial\", \"B\", 13)\n",
        "    pdf.set_text_color(0, 0, 100)\n",
        "    pdf.cell(0, 10, \"True/False Answers :\", ln=True)\n",
        "    pdf.answer_block(tf_ans)\n",
        "\n",
        "    pdf.cell(0, 10, \"Yes/No Answers :\", ln=True)\n",
        "    pdf.answer_block(yn_ans)\n",
        "\n",
        "    pdf.cell(0, 10, \"MCQ Answers\", ln=True)\n",
        "    pdf.answer_block(mcq_ans)\n",
        "\n",
        "    pdf.output(output_file)\n",
        "    print(f\"✅ Styled PDF exported: {output_file}\")\n",
        "\n",
        "\n",
        "    # ---------------- MAIN FLOW ----------------\n",
        "if __name__ == \"__main__\":\n",
        "    path = \"/content/IT_computer_literacy.pdf\"\n",
        "    text = load_pdf_text(path)\n",
        "\n",
        "    if not text:\n",
        "        print(\"❌ SOP text extraction failed.\")\n",
        "        exit(1)\n",
        "\n",
        "    try:\n",
        "        model = genai.GenerativeModel(\"gemini-1.5-flash\")\n",
        "        prompt = build_prompt(text)\n",
        "\n",
        "        print(\"🔄 Generating questions...\")\n",
        "        response = model.generate_content(prompt)\n",
        "        question_text = clean_unicode(response.text)\n",
        "\n",
        "        tf, yn, mcq, tf_ans, yn_ans, mcq_ans = parse_questions(question_text)\n",
        "        export_to_pdf(tf, yn, mcq, tf_ans, yn_ans, mcq_ans)\n",
        "\n",
        "    except Exception as e:\n",
        "        print(\"❌ Error during Gemini processing:\")\n",
        "        traceback.print_exc()\n"
      ],
      "metadata": {
        "colab": {
          "base_uri": "https://localhost:8080/",
          "height": 52
        },
        "id": "5jQA7y-7YgPD",
        "outputId": "5508c32b-528e-4164-e99f-9a1a2759c396"
      },
      "execution_count": 35,
      "outputs": [
        {
          "output_type": "stream",
          "name": "stdout",
          "text": [
            "🔄 Generating questions...\n",
            "✅ Styled PDF exported: IT_Literacy_Quiz.pdf\n"
          ]
        }
      ]
    },
    {
      "cell_type": "code",
      "source": [],
      "metadata": {
        "id": "-YHxrA7hbVBE"
      },
      "execution_count": 35,
      "outputs": []
    }
  ]
}